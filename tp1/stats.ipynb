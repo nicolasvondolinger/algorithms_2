{
 "cells": [
  {
   "cell_type": "code",
   "execution_count": null,
   "metadata": {
    "vscode": {
     "languageId": "plaintext"
    }
   },
   "outputs": [],
   "source": [
    "import pandas as pd\n",
    "import matplotlib.pyplot as plt\n",
    "import seaborn as sns"
   ]
  },
  {
   "cell_type": "code",
   "execution_count": null,
   "metadata": {
    "vscode": {
     "languageId": "plaintext"
    }
   },
   "outputs": [],
   "source": [
    "csv_path = \"stats.csv\" \n",
    "\n",
    "# Carregar os dados do CSV como DataFrame\n",
    "df = pd.read_csv(csv_path)"
   ]
  },
  {
   "cell_type": "code",
   "execution_count": null,
   "metadata": {
    "vscode": {
     "languageId": "plaintext"
    }
   },
   "outputs": [],
   "source": [
    "df = pd.DataFrame(data)\n",
    "\n",
    "# Configuração do estilo para os gráficos\n",
    "sns.set_theme(style=\"whitegrid\")\n",
    "\n",
    "# 1. Visualizar os dados como tabela\n",
    "print(\"Tabela com os dados:\")\n",
    "print(df)\n",
    "\n",
    "# 2. Gráfico 1: Taxa de Compressão (%) vs. Tamanho do Dicionário\n",
    "plt.figure(figsize=(10, 6))\n",
    "sns.barplot(data=df, x=\"Arquivo de Entrada\", y=\"Taxa de Compressão (%)\", palette=\"viridis\")\n",
    "plt.xticks(rotation=45, ha=\"right\")\n",
    "plt.title(\"Taxa de Compressão (%) por Arquivo\")\n",
    "plt.ylabel(\"Taxa de Compressão (%)\")\n",
    "plt.xlabel(\"Arquivo de Entrada\")\n",
    "plt.tight_layout()\n",
    "plt.show()\n",
    "\n",
    "# 3. Gráfico 2: Tempo de Execução (s) vs. Tamanho do Dicionário\n",
    "plt.figure(figsize=(10, 6))\n",
    "sns.scatterplot(data=df, x=\"Tamanho do Dicionário\", y=\"Tempo de Execução (s)\", hue=\"Taxa de Compressão (%)\", palette=\"coolwarm\", size=\"Taxa de Compressão (%)\", sizes=(20, 200))\n",
    "plt.title(\"Tempo de Execução (s) vs. Tamanho do Dicionário\")\n",
    "plt.ylabel(\"Tempo de Execução (s)\")\n",
    "plt.xlabel(\"Tamanho do Dicionário\")\n",
    "plt.tight_layout()\n",
    "plt.show()\n",
    "\n",
    "# 4. Gráfico 3: Taxa de Compressão (%) vs. Tempo de Execução (s)\n",
    "plt.figure(figsize=(10, 6))\n",
    "sns.lineplot(data=df, x=\"Tempo de Execução (s)\", y=\"Taxa de Compressão (%)\", marker=\"o\", color=\"b\")\n",
    "plt.title(\"Taxa de Compressão (%) ao longo do Tempo de Execução\")\n",
    "plt.ylabel(\"Taxa de Compressão (%)\")\n",
    "plt.xlabel(\"Tempo de Execução (s)\")\n",
    "plt.tight_layout()\n",
    "plt.show()\n",
    "\n",
    "# 5. Análise dos tamanhos de dicionário\n",
    "plt.figure(figsize=(10, 6))\n",
    "sns.histplot(df[\"Tamanho do Dicionário\"], bins=10, kde=True, color=\"green\")\n",
    "plt.title(\"Distribuição do Tamanho do Dicionário\")\n",
    "plt.xlabel(\"Tamanho do Dicionário\")\n",
    "plt.ylabel(\"Frequência\")\n",
    "plt.tight_layout()\n",
    "plt.show()\n",
    "\n",
    "# 6. Gráfico 4: Relação Bits Usados (12) com Tempo de Execução\n",
    "plt.figure(figsize=(10, 6))\n",
    "sns.scatterplot(data=df, x=\"Bits Usados (12)\", y=\"Tempo de Execução (s)\", color=\"purple\", s=100)\n",
    "plt.title(\"Bits Usados (12) vs. Tempo de Execução\")\n",
    "plt.xlabel(\"Bits Usados (12)\")\n",
    "plt.ylabel(\"Tempo de Execução (s)\")\n",
    "plt.tight_layout()\n",
    "plt.show()\n",
    "\n",
    "# 7. Correlação entre variáveis\n",
    "correlation = df[[\"Taxa de Compressão (%)\", \"Tempo de Execução (s)\", \"Tamanho do Dicionário\"]].corr()\n",
    "print(\"\\nCorrelação entre variáveis:\")\n",
    "print(correlation)\n",
    "\n",
    "# 8. Heatmap de correlação\n",
    "plt.figure(figsize=(8, 6))\n",
    "sns.heatmap(correlation, annot=True, cmap=\"coolwarm\", fmt=\".2f\")\n",
    "plt.title(\"Mapa de Correlação entre Variáveis\")\n",
    "plt.tight_layout()\n",
    "plt.show()"
   ]
  }
 ],
 "metadata": {
  "language_info": {
   "name": "python"
  }
 },
 "nbformat": 4,
 "nbformat_minor": 2
}
